{
 "cells": [
  {
   "cell_type": "markdown",
   "id": "4ca3871c-5fa2-4211-b0ed-69b0dac1d59c",
   "metadata": {},
   "source": [
    "# Set things up"
   ]
  },
  {
   "cell_type": "markdown",
   "id": "718f5674-a0d1-4a18-9dcf-42675d11de80",
   "metadata": {},
   "source": [
    "## Import libraries"
   ]
  },
  {
   "cell_type": "code",
   "execution_count": 1,
   "id": "5e676e45-213a-4ef4-8821-23da599d250b",
   "metadata": {},
   "outputs": [],
   "source": [
    "import sys\n",
    "import os\n",
    "sys.path.insert(0, os.path.join(os.getcwd(),'../CIBUSmod'))"
   ]
  },
  {
   "cell_type": "markdown",
   "id": "b675e4d9-29c0-4ab5-a7d5-2938adc448c4",
   "metadata": {},
   "source": [
    "Import CIBUSmod and packages for handling data and plotting"
   ]
  },
  {
   "cell_type": "code",
   "execution_count": 2,
   "id": "d55699eb-19a5-40b0-8e43-325d9f181de7",
   "metadata": {},
   "outputs": [],
   "source": [
    "import CIBUSmod as cm\n",
    "import CIBUSmod.utils.plot as plot\n",
    "\n",
    "import time\n",
    "import numpy as np\n",
    "import pandas as pd\n",
    "import matplotlib.pyplot as plt"
   ]
  },
  {
   "cell_type": "markdown",
   "id": "801ba28b-8829-4e49-a745-ed0da2626500",
   "metadata": {},
   "source": [
    "## Set up session and define scenarios"
   ]
  },
  {
   "cell_type": "code",
   "execution_count": 3,
   "id": "d35ae5cb-a82d-49a9-a321-7a8e2bd411db",
   "metadata": {},
   "outputs": [
    {
     "name": "stdout",
     "output_type": "stream",
     "text": [
      "A scenario with the name 'SLV' already exists use .update_scenario() or .remove_scenario() instead.\n"
     ]
    }
   ],
   "source": [
    "# Get years from scenario workbook\n",
    "years = [x.split('_')[1] for x in pd.read_excel('scenarios/slv_2025.xlsx', sheet_name='DemandAndConversions').columns if 'y_' in x]\n",
    "\n",
    "# Create session\n",
    "session = cm.Session(\n",
    "    name = 'SLV',\n",
    "    data_path = '../CIBUSmod/data',\n",
    "    data_path_output = 'output',\n",
    "    data_path_scenarios = 'scenarios'\n",
    ")\n",
    "\n",
    "# Add scenarios\n",
    "session.add_scenario(\n",
    "    name = 'SLV',\n",
    "    scenario_workbooks = 'slv_2025',\n",
    "    years = years\n",
    ")"
   ]
  },
  {
   "cell_type": "code",
   "execution_count": 8,
   "id": "30a52a2d-7889-44d5-a099-ee0a1389e4e1",
   "metadata": {},
   "outputs": [
    {
     "data": {
      "text/plain": [
       "[('SLV', '0'),\n",
       " ('SLV', '1110'),\n",
       " ('SLV', '1120'),\n",
       " ('SLV', '1210'),\n",
       " ('SLV', '1220'),\n",
       " ('SLV', '1310'),\n",
       " ('SLV', '1320'),\n",
       " ('SLV', '2110'),\n",
       " ('SLV', '2120'),\n",
       " ('SLV', '2210'),\n",
       " ('SLV', '2220'),\n",
       " ('SLV', '2310'),\n",
       " ('SLV', '2320')]"
      ]
     },
     "execution_count": 8,
     "metadata": {},
     "output_type": "execute_result"
    }
   ],
   "source": [
    "# Import\n",
    "from concurrent.futures import ProcessPoolExecutor, as_completed\n",
    "from runCIBUSmod import do_run\n",
    "\n",
    "# Create list of scenarios/years to run\n",
    "runs = [(s,y) for s, y in session.iterate('all')]\n",
    "runs"
   ]
  },
  {
   "cell_type": "code",
   "execution_count": null,
   "id": "3cc7ffec-06ee-4d10-a553-76eab5a501b7",
   "metadata": {},
   "outputs": [],
   "source": [
    "%%time\n",
    "# Do the multi-processing\n",
    "with ProcessPoolExecutor(max_workers=10) as executor:\n",
    "    \n",
    "    futures = {executor.submit(do_run, session, scn_year) : scn_year for scn_year in runs}\n",
    "\n",
    "    for future in as_completed(futures):\n",
    "    \n",
    "        scn, year = futures[future]\n",
    "           \n",
    "        try:\n",
    "            t = future.result()\n",
    "        except Exception as ee:\n",
    "            print(f'(!!!) {scn}, {year} failed with the exception: {ee}')\n",
    "        else:\n",
    "            m = int(t/60)\n",
    "            s = int(round(t - m*60))\n",
    "            print(f'{scn}, {year} finished successfully in {m}min {s}s')\n",
    "                    "
   ]
  },
  {
   "cell_type": "code",
   "execution_count": null,
   "id": "a0c12815-f3c4-4b1d-af5e-0958a551039d",
   "metadata": {},
   "outputs": [],
   "source": []
  }
 ],
 "metadata": {
  "kernelspec": {
   "display_name": "Python 3 (ipykernel)",
   "language": "python",
   "name": "python3"
  },
  "language_info": {
   "codemirror_mode": {
    "name": "ipython",
    "version": 3
   },
   "file_extension": ".py",
   "mimetype": "text/x-python",
   "name": "python",
   "nbconvert_exporter": "python",
   "pygments_lexer": "ipython3",
   "version": "3.11.6"
  }
 },
 "nbformat": 4,
 "nbformat_minor": 5
}
